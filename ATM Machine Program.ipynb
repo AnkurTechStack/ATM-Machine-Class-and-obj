{
 "cells": [
  {
   "cell_type": "code",
   "execution_count": null,
   "id": "c8e268e6-7df2-430c-b345-0770a51537c3",
   "metadata": {},
   "outputs": [],
   "source": [
    "#ATM Machine Function Program\n",
    "#Data-Owner, Balance\n",
    "#Methods- Verify Pin, Check Balance, Deposit Money, Withdraw Money"
   ]
  },
  {
   "cell_type": "code",
   "execution_count": 4,
   "id": "28560623-00e8-44a5-bb56-4fe71d62aa2a",
   "metadata": {},
   "outputs": [
    {
     "name": "stdout",
     "output_type": "stream",
     "text": [
      "===========Welcome to HDFC Bank ATM===========\n"
     ]
    },
    {
     "name": "stdin",
     "output_type": "stream",
     "text": [
      "Please enter your 4-digit PIN 4321\n"
     ]
    },
    {
     "name": "stdout",
     "output_type": "stream",
     "text": [
      "Welcome\n",
      "Choose an option from 1 to 4\n",
      "1.Check Balance\n",
      "2.Deposit Money\n",
      "3.Withdraw Money\n",
      "4.Exit\n"
     ]
    },
    {
     "name": "stdin",
     "output_type": "stream",
     "text": [
      "Enter your choice (1/2/3/4)-  1\n"
     ]
    },
    {
     "name": "stdout",
     "output_type": "stream",
     "text": [
      "Ankur, your current balance is Rs. 25000\n",
      "Welcome\n",
      "Choose an option from 1 to 4\n",
      "1.Check Balance\n",
      "2.Deposit Money\n",
      "3.Withdraw Money\n",
      "4.Exit\n"
     ]
    },
    {
     "name": "stdin",
     "output_type": "stream",
     "text": [
      "Enter your choice (1/2/3/4)-  2\n",
      "Enter the amount to be deposited in Rs. - 3000\n"
     ]
    },
    {
     "name": "stdout",
     "output_type": "stream",
     "text": [
      " Rs 3000.0 deposited in your account. New balance is Rs 28000.0\n",
      "Welcome\n",
      "Choose an option from 1 to 4\n",
      "1.Check Balance\n",
      "2.Deposit Money\n",
      "3.Withdraw Money\n",
      "4.Exit\n"
     ]
    },
    {
     "name": "stdin",
     "output_type": "stream",
     "text": [
      "Enter your choice (1/2/3/4)-  3\n",
      "Enter the amount to be withdrawn in Rs. - 2000\n"
     ]
    },
    {
     "name": "stdout",
     "output_type": "stream",
     "text": [
      "Rs 2000.0 withdrwan from your account. New balance is Rs 26000.0\n",
      "Welcome\n",
      "Choose an option from 1 to 4\n",
      "1.Check Balance\n",
      "2.Deposit Money\n",
      "3.Withdraw Money\n",
      "4.Exit\n"
     ]
    },
    {
     "name": "stdin",
     "output_type": "stream",
     "text": [
      "Enter your choice (1/2/3/4)-  4\n"
     ]
    },
    {
     "name": "stdout",
     "output_type": "stream",
     "text": [
      "Thanks for visiting the ATM Machine. Goodbye!! \n"
     ]
    }
   ],
   "source": [
    "#Class creation\n",
    "class ATM:\n",
    "    def __init__(self, owner, pin, balance=0):\n",
    "        self.owner=owner\n",
    "        self.balance=balance\n",
    "        self.pin=pin\n",
    "    def verify_pin(self, input_pin):\n",
    "        return self.pin == input_pin\n",
    "    def check_balance(self):\n",
    "        print(f\"{self.owner}, your current balance is Rs. {self.balance}\")\n",
    "    def deposit(self, amount):\n",
    "        self.balance=self.balance+amount\n",
    "        print(f\" Rs {amount} deposited in your account. New balance is Rs {self.balance}\")\n",
    "    def withdraw(self, amount):\n",
    "        if amount > self.balance:\n",
    "            print(\"Insufficient balance in the account\")\n",
    "        else:\n",
    "            self.balance=self.balance-amount\n",
    "            print(f\"Rs {amount} withdrwan from your account. New balance is Rs {self.balance}\")\n",
    "\n",
    "#Object creation and Method calling\n",
    "my_account=ATM(\"Ankur\", \"4321\", 25000)\n",
    "\n",
    "#my_account.check_balance()\n",
    "#my_account.deposit(10000)\n",
    "#my_account.withdraw(5000)\n",
    "#my_account.check_balance()\n",
    "\n",
    "#User Interface\n",
    "print(\"===========Welcome to HDFC Bank ATM===========\")\n",
    "input_pin= input(\"Please enter your 4-digit PIN\")\n",
    "if my_account.verify_pin(input_pin):\n",
    "    while True:\n",
    "        print(\"Welcome\")\n",
    "        print(\"Choose an option from 1 to 4\")\n",
    "        print(\"1.Check Balance\")\n",
    "        print(\"2.Deposit Money\")\n",
    "        print(\"3.Withdraw Money\")\n",
    "        print(\"4.Exit\")\n",
    "\n",
    "        choice=input(\"Enter your choice (1/2/3/4)- \")\n",
    "\n",
    "        if choice==\"1\":\n",
    "            my_account.check_balance()\n",
    "        elif choice==\"2\":\n",
    "            amount=float(input(\"Enter the amount to be deposited in Rs. -\"))\n",
    "            my_account.deposit(amount)\n",
    "        elif choice==\"3\":\n",
    "            amount=float(input(\"Enter the amount to be withdrawn in Rs. -\"))\n",
    "            my_account.withdraw(amount)\n",
    "        elif choice==\"4\":\n",
    "            print(\"Thanks for visiting the ATM Machine. Goodbye!! \")\n",
    "            break\n",
    "        else:\n",
    "            print(\"Invalid choice selected. Please try again! \")\n",
    "\n",
    "else:\n",
    "    print(\"Invalid PIN Entered! Access Denied.\")\n",
    "            \n",
    "        "
   ]
  },
  {
   "cell_type": "code",
   "execution_count": null,
   "id": "ceb5088d-92fb-4f41-89b7-f3727250e4e4",
   "metadata": {},
   "outputs": [],
   "source": []
  }
 ],
 "metadata": {
  "kernelspec": {
   "display_name": "Python [conda env:base] *",
   "language": "python",
   "name": "conda-base-py"
  },
  "language_info": {
   "codemirror_mode": {
    "name": "ipython",
    "version": 3
   },
   "file_extension": ".py",
   "mimetype": "text/x-python",
   "name": "python",
   "nbconvert_exporter": "python",
   "pygments_lexer": "ipython3",
   "version": "3.12.7"
  }
 },
 "nbformat": 4,
 "nbformat_minor": 5
}
